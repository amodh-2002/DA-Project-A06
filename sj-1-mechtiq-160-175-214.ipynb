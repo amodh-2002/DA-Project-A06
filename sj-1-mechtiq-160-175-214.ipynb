{
 "cells": [
  {
   "cell_type": "code",
   "execution_count": 1,
   "id": "fe428217",
   "metadata": {
    "execution": {
     "iopub.execute_input": "2023-12-18T05:06:57.725244Z",
     "iopub.status.busy": "2023-12-18T05:06:57.724789Z",
     "iopub.status.idle": "2023-12-18T05:06:57.740560Z",
     "shell.execute_reply": "2023-12-18T05:06:57.738990Z"
    },
    "papermill": {
     "duration": 0.027256,
     "end_time": "2023-12-18T05:06:57.742765",
     "exception": false,
     "start_time": "2023-12-18T05:06:57.715509",
     "status": "completed"
    },
    "tags": []
   },
   "outputs": [
    {
     "name": "stdout",
     "output_type": "stream",
     "text": [
      "/kaggle/input/data-analytics-ue20cs312/sample_submission.csv\n",
      "/kaggle/input/data-analytics-ue20cs312/train.csv\n",
      "/kaggle/input/data-analytics-ue20cs312/test.csv\n"
     ]
    }
   ],
   "source": [
    "import numpy as np \n",
    "import pandas as pd\n",
    "import matplotlib.pylab as plt\n",
    "import warnings\n",
    "warnings.filterwarnings('ignore')\n",
    "import os\n",
    "for dirname, _, filenames in os.walk('/kaggle/input/data-analytics-ue20cs312'):\n",
    "    for filename in filenames:\n",
    "        print(os.path.join(dirname, filename))"
   ]
  },
  {
   "cell_type": "code",
   "execution_count": 2,
   "id": "6aaec67f",
   "metadata": {
    "execution": {
     "iopub.execute_input": "2023-12-18T05:06:57.758196Z",
     "iopub.status.busy": "2023-12-18T05:06:57.757273Z",
     "iopub.status.idle": "2023-12-18T05:07:10.460864Z",
     "shell.execute_reply": "2023-12-18T05:07:10.459937Z"
    },
    "papermill": {
     "duration": 12.713598,
     "end_time": "2023-12-18T05:07:10.463206",
     "exception": false,
     "start_time": "2023-12-18T05:06:57.749608",
     "status": "completed"
    },
    "tags": []
   },
   "outputs": [
    {
     "name": "stdout",
     "output_type": "stream",
     "text": [
      "Collecting pmdarima\r\n",
      "  Downloading pmdarima-2.0.4-cp37-cp37m-manylinux_2_17_x86_64.manylinux2014_x86_64.manylinux_2_28_x86_64.whl (2.0 MB)\r\n",
      "\u001b[2K     \u001b[90m━━━━━━━━━━━━━━━━━━━━━━━━━━━━━━━━━━━━━━━━\u001b[0m \u001b[32m2.0/2.0 MB\u001b[0m \u001b[31m31.8 MB/s\u001b[0m eta \u001b[36m0:00:00\u001b[0m\r\n",
      "\u001b[?25hRequirement already satisfied: urllib3 in /opt/conda/lib/python3.7/site-packages (from pmdarima) (1.26.12)\r\n",
      "Requirement already satisfied: scikit-learn>=0.22 in /opt/conda/lib/python3.7/site-packages (from pmdarima) (1.0.2)\r\n",
      "Requirement already satisfied: statsmodels>=0.13.2 in /opt/conda/lib/python3.7/site-packages (from pmdarima) (0.13.2)\r\n",
      "Requirement already satisfied: packaging>=17.1 in /opt/conda/lib/python3.7/site-packages (from pmdarima) (21.3)\r\n",
      "Requirement already satisfied: setuptools!=50.0.0,>=38.6.0 in /opt/conda/lib/python3.7/site-packages (from pmdarima) (59.8.0)\r\n",
      "Requirement already satisfied: numpy>=1.21.2 in /opt/conda/lib/python3.7/site-packages (from pmdarima) (1.21.6)\r\n",
      "Requirement already satisfied: scipy>=1.3.2 in /opt/conda/lib/python3.7/site-packages (from pmdarima) (1.7.3)\r\n",
      "Requirement already satisfied: pandas>=0.19 in /opt/conda/lib/python3.7/site-packages (from pmdarima) (1.3.5)\r\n",
      "Requirement already satisfied: joblib>=0.11 in /opt/conda/lib/python3.7/site-packages (from pmdarima) (1.0.1)\r\n",
      "Requirement already satisfied: Cython!=0.29.18,!=0.29.31,>=0.29 in /opt/conda/lib/python3.7/site-packages (from pmdarima) (0.29.32)\r\n",
      "Requirement already satisfied: pyparsing!=3.0.5,>=2.0.2 in /opt/conda/lib/python3.7/site-packages (from packaging>=17.1->pmdarima) (3.0.9)\r\n",
      "Requirement already satisfied: python-dateutil>=2.7.3 in /opt/conda/lib/python3.7/site-packages (from pandas>=0.19->pmdarima) (2.8.2)\r\n",
      "Requirement already satisfied: pytz>=2017.3 in /opt/conda/lib/python3.7/site-packages (from pandas>=0.19->pmdarima) (2022.1)\r\n",
      "Requirement already satisfied: threadpoolctl>=2.0.0 in /opt/conda/lib/python3.7/site-packages (from scikit-learn>=0.22->pmdarima) (3.1.0)\r\n",
      "Requirement already satisfied: patsy>=0.5.2 in /opt/conda/lib/python3.7/site-packages (from statsmodels>=0.13.2->pmdarima) (0.5.2)\r\n",
      "Requirement already satisfied: six in /opt/conda/lib/python3.7/site-packages (from patsy>=0.5.2->statsmodels>=0.13.2->pmdarima) (1.15.0)\r\n",
      "Installing collected packages: pmdarima\r\n",
      "Successfully installed pmdarima-2.0.4\r\n",
      "\u001b[33mWARNING: Running pip as the 'root' user can result in broken permissions and conflicting behaviour with the system package manager. It is recommended to use a virtual environment instead: https://pip.pypa.io/warnings/venv\u001b[0m\u001b[33m\r\n",
      "\u001b[0m"
     ]
    }
   ],
   "source": [
    "!pip install pmdarima\n",
    "from statsmodels.tsa.stattools import adfuller\n",
    "from statsmodels.tsa.seasonal import seasonal_decompose\n",
    "from statsmodels.tsa.arima_model import ARIMA\n",
    "from pmdarima.arima import auto_arima\n",
    "from sklearn.metrics import mean_squared_error, mean_absolute_error\n",
    "import math"
   ]
  },
  {
   "cell_type": "code",
   "execution_count": 3,
   "id": "c49281db",
   "metadata": {
    "execution": {
     "iopub.execute_input": "2023-12-18T05:07:10.479740Z",
     "iopub.status.busy": "2023-12-18T05:07:10.478458Z",
     "iopub.status.idle": "2023-12-18T05:07:10.522559Z",
     "shell.execute_reply": "2023-12-18T05:07:10.521105Z"
    },
    "papermill": {
     "duration": 0.054284,
     "end_time": "2023-12-18T05:07:10.524627",
     "exception": false,
     "start_time": "2023-12-18T05:07:10.470343",
     "status": "completed"
    },
    "tags": []
   },
   "outputs": [
    {
     "data": {
      "text/html": [
       "<div>\n",
       "<style scoped>\n",
       "    .dataframe tbody tr th:only-of-type {\n",
       "        vertical-align: middle;\n",
       "    }\n",
       "\n",
       "    .dataframe tbody tr th {\n",
       "        vertical-align: top;\n",
       "    }\n",
       "\n",
       "    .dataframe thead th {\n",
       "        text-align: right;\n",
       "    }\n",
       "</style>\n",
       "<table border=\"1\" class=\"dataframe\">\n",
       "  <thead>\n",
       "    <tr style=\"text-align: right;\">\n",
       "      <th></th>\n",
       "      <th>Date</th>\n",
       "      <th>Open</th>\n",
       "      <th>High</th>\n",
       "      <th>Low</th>\n",
       "      <th>Close</th>\n",
       "      <th>Volume</th>\n",
       "    </tr>\n",
       "  </thead>\n",
       "  <tbody>\n",
       "    <tr>\n",
       "      <th>0</th>\n",
       "      <td>2016-01-04</td>\n",
       "      <td>1099.59</td>\n",
       "      <td>1110.75</td>\n",
       "      <td>1093.85</td>\n",
       "      <td>1109.64</td>\n",
       "      <td>66545000</td>\n",
       "    </tr>\n",
       "    <tr>\n",
       "      <th>1</th>\n",
       "      <td>2016-01-05</td>\n",
       "      <td>1117.47</td>\n",
       "      <td>1130.57</td>\n",
       "      <td>1112.75</td>\n",
       "      <td>1125.85</td>\n",
       "      <td>41227200</td>\n",
       "    </tr>\n",
       "    <tr>\n",
       "      <th>2</th>\n",
       "      <td>2016-01-06</td>\n",
       "      <td>1116.63</td>\n",
       "      <td>1138.68</td>\n",
       "      <td>1116.10</td>\n",
       "      <td>1133.04</td>\n",
       "      <td>42316800</td>\n",
       "    </tr>\n",
       "    <tr>\n",
       "      <th>3</th>\n",
       "      <td>2016-01-07</td>\n",
       "      <td>1122.00</td>\n",
       "      <td>1149.76</td>\n",
       "      <td>1117.56</td>\n",
       "      <td>1143.37</td>\n",
       "      <td>64899600</td>\n",
       "    </tr>\n",
       "    <tr>\n",
       "      <th>4</th>\n",
       "      <td>2016-01-08</td>\n",
       "      <td>1145.64</td>\n",
       "      <td>1149.96</td>\n",
       "      <td>1120.93</td>\n",
       "      <td>1122.88</td>\n",
       "      <td>52138900</td>\n",
       "    </tr>\n",
       "  </tbody>\n",
       "</table>\n",
       "</div>"
      ],
      "text/plain": [
       "         Date     Open     High      Low    Close    Volume\n",
       "0  2016-01-04  1099.59  1110.75  1093.85  1109.64  66545000\n",
       "1  2016-01-05  1117.47  1130.57  1112.75  1125.85  41227200\n",
       "2  2016-01-06  1116.63  1138.68  1116.10  1133.04  42316800\n",
       "3  2016-01-07  1122.00  1149.76  1117.56  1143.37  64899600\n",
       "4  2016-01-08  1145.64  1149.96  1120.93  1122.88  52138900"
      ]
     },
     "execution_count": 3,
     "metadata": {},
     "output_type": "execute_result"
    }
   ],
   "source": [
    "data = pd.read_csv('../input/data-analytics-ue20cs312/train.csv')\n",
    "test_data1 = pd.read_csv(\"../input/data-analytics-ue20cs312/test.csv\")\n",
    "data.head()\n"
   ]
  },
  {
   "cell_type": "code",
   "execution_count": 4,
   "id": "5a303acf",
   "metadata": {
    "execution": {
     "iopub.execute_input": "2023-12-18T05:07:10.540680Z",
     "iopub.status.busy": "2023-12-18T05:07:10.540173Z",
     "iopub.status.idle": "2023-12-18T05:07:10.552169Z",
     "shell.execute_reply": "2023-12-18T05:07:10.550999Z"
    },
    "papermill": {
     "duration": 0.022174,
     "end_time": "2023-12-18T05:07:10.554155",
     "exception": false,
     "start_time": "2023-12-18T05:07:10.531981",
     "status": "completed"
    },
    "tags": []
   },
   "outputs": [],
   "source": [
    "data['Date']=pd.to_datetime(data['Date'])"
   ]
  },
  {
   "cell_type": "code",
   "execution_count": 5,
   "id": "3a2d62cd",
   "metadata": {
    "execution": {
     "iopub.execute_input": "2023-12-18T05:07:10.569955Z",
     "iopub.status.busy": "2023-12-18T05:07:10.569537Z",
     "iopub.status.idle": "2023-12-18T05:07:10.582189Z",
     "shell.execute_reply": "2023-12-18T05:07:10.580833Z"
    },
    "papermill": {
     "duration": 0.023685,
     "end_time": "2023-12-18T05:07:10.584955",
     "exception": false,
     "start_time": "2023-12-18T05:07:10.561270",
     "status": "completed"
    },
    "tags": []
   },
   "outputs": [
    {
     "data": {
      "text/html": [
       "<div>\n",
       "<style scoped>\n",
       "    .dataframe tbody tr th:only-of-type {\n",
       "        vertical-align: middle;\n",
       "    }\n",
       "\n",
       "    .dataframe tbody tr th {\n",
       "        vertical-align: top;\n",
       "    }\n",
       "\n",
       "    .dataframe thead th {\n",
       "        text-align: right;\n",
       "    }\n",
       "</style>\n",
       "<table border=\"1\" class=\"dataframe\">\n",
       "  <thead>\n",
       "    <tr style=\"text-align: right;\">\n",
       "      <th></th>\n",
       "      <th>Date</th>\n",
       "      <th>Open</th>\n",
       "      <th>High</th>\n",
       "      <th>Low</th>\n",
       "      <th>Volume</th>\n",
       "    </tr>\n",
       "  </thead>\n",
       "  <tbody>\n",
       "    <tr>\n",
       "      <th>0</th>\n",
       "      <td>2022-08-01</td>\n",
       "      <td>2455.71</td>\n",
       "      <td>2500.26</td>\n",
       "      <td>2447.87</td>\n",
       "      <td>24327600</td>\n",
       "    </tr>\n",
       "    <tr>\n",
       "      <th>1</th>\n",
       "      <td>2022-08-02</td>\n",
       "      <td>2466.68</td>\n",
       "      <td>2494.73</td>\n",
       "      <td>2447.99</td>\n",
       "      <td>19076300</td>\n",
       "    </tr>\n",
       "    <tr>\n",
       "      <th>2</th>\n",
       "      <td>2022-08-03</td>\n",
       "      <td>2473.29</td>\n",
       "      <td>2507.59</td>\n",
       "      <td>2449.39</td>\n",
       "      <td>27459700</td>\n",
       "    </tr>\n",
       "    <tr>\n",
       "      <th>3</th>\n",
       "      <td>2022-08-04</td>\n",
       "      <td>2475.98</td>\n",
       "      <td>2487.75</td>\n",
       "      <td>2419.88</td>\n",
       "      <td>23699600</td>\n",
       "    </tr>\n",
       "    <tr>\n",
       "      <th>4</th>\n",
       "      <td>2022-08-05</td>\n",
       "      <td>2414.66</td>\n",
       "      <td>2444.17</td>\n",
       "      <td>2409.01</td>\n",
       "      <td>18912400</td>\n",
       "    </tr>\n",
       "  </tbody>\n",
       "</table>\n",
       "</div>"
      ],
      "text/plain": [
       "         Date     Open     High      Low    Volume\n",
       "0  2022-08-01  2455.71  2500.26  2447.87  24327600\n",
       "1  2022-08-02  2466.68  2494.73  2447.99  19076300\n",
       "2  2022-08-03  2473.29  2507.59  2449.39  27459700\n",
       "3  2022-08-04  2475.98  2487.75  2419.88  23699600\n",
       "4  2022-08-05  2414.66  2444.17  2409.01  18912400"
      ]
     },
     "execution_count": 5,
     "metadata": {},
     "output_type": "execute_result"
    }
   ],
   "source": [
    "test_data1.head()"
   ]
  },
  {
   "cell_type": "code",
   "execution_count": 6,
   "id": "6ff64c21",
   "metadata": {
    "execution": {
     "iopub.execute_input": "2023-12-18T05:07:10.604858Z",
     "iopub.status.busy": "2023-12-18T05:07:10.604423Z",
     "iopub.status.idle": "2023-12-18T05:07:10.612279Z",
     "shell.execute_reply": "2023-12-18T05:07:10.611349Z"
    },
    "papermill": {
     "duration": 0.019363,
     "end_time": "2023-12-18T05:07:10.614057",
     "exception": false,
     "start_time": "2023-12-18T05:07:10.594694",
     "status": "completed"
    },
    "tags": []
   },
   "outputs": [
    {
     "data": {
      "text/plain": [
       "Date       object\n",
       "Open      float64\n",
       "High      float64\n",
       "Low       float64\n",
       "Volume      int64\n",
       "dtype: object"
      ]
     },
     "execution_count": 6,
     "metadata": {},
     "output_type": "execute_result"
    }
   ],
   "source": [
    "data.dtypes\n",
    "test_data1.dtypes"
   ]
  },
  {
   "cell_type": "code",
   "execution_count": 7,
   "id": "ba13a9c2",
   "metadata": {
    "execution": {
     "iopub.execute_input": "2023-12-18T05:07:10.633744Z",
     "iopub.status.busy": "2023-12-18T05:07:10.632483Z",
     "iopub.status.idle": "2023-12-18T05:07:10.639226Z",
     "shell.execute_reply": "2023-12-18T05:07:10.638207Z"
    },
    "papermill": {
     "duration": 0.018466,
     "end_time": "2023-12-18T05:07:10.642178",
     "exception": false,
     "start_time": "2023-12-18T05:07:10.623712",
     "status": "completed"
    },
    "tags": []
   },
   "outputs": [
    {
     "data": {
      "text/plain": [
       "(1655, 6)"
      ]
     },
     "execution_count": 7,
     "metadata": {},
     "output_type": "execute_result"
    }
   ],
   "source": [
    "data.shape"
   ]
  },
  {
   "cell_type": "code",
   "execution_count": 8,
   "id": "5c0bee6b",
   "metadata": {
    "execution": {
     "iopub.execute_input": "2023-12-18T05:07:10.661492Z",
     "iopub.status.busy": "2023-12-18T05:07:10.661097Z",
     "iopub.status.idle": "2023-12-18T05:07:10.667122Z",
     "shell.execute_reply": "2023-12-18T05:07:10.666137Z"
    },
    "papermill": {
     "duration": 0.018196,
     "end_time": "2023-12-18T05:07:10.669264",
     "exception": false,
     "start_time": "2023-12-18T05:07:10.651068",
     "status": "completed"
    },
    "tags": []
   },
   "outputs": [
    {
     "data": {
      "text/plain": [
       "(35, 5)"
      ]
     },
     "execution_count": 8,
     "metadata": {},
     "output_type": "execute_result"
    }
   ],
   "source": [
    "test_data1.shape"
   ]
  },
  {
   "cell_type": "code",
   "execution_count": 9,
   "id": "8f1da918",
   "metadata": {
    "execution": {
     "iopub.execute_input": "2023-12-18T05:07:10.686927Z",
     "iopub.status.busy": "2023-12-18T05:07:10.686341Z",
     "iopub.status.idle": "2023-12-18T05:07:10.725996Z",
     "shell.execute_reply": "2023-12-18T05:07:10.725046Z"
    },
    "papermill": {
     "duration": 0.050939,
     "end_time": "2023-12-18T05:07:10.728001",
     "exception": false,
     "start_time": "2023-12-18T05:07:10.677062",
     "status": "completed"
    },
    "tags": []
   },
   "outputs": [
    {
     "data": {
      "text/html": [
       "<div>\n",
       "<style scoped>\n",
       "    .dataframe tbody tr th:only-of-type {\n",
       "        vertical-align: middle;\n",
       "    }\n",
       "\n",
       "    .dataframe tbody tr th {\n",
       "        vertical-align: top;\n",
       "    }\n",
       "\n",
       "    .dataframe thead th {\n",
       "        text-align: right;\n",
       "    }\n",
       "</style>\n",
       "<table border=\"1\" class=\"dataframe\">\n",
       "  <thead>\n",
       "    <tr style=\"text-align: right;\">\n",
       "      <th></th>\n",
       "      <th>Open</th>\n",
       "      <th>High</th>\n",
       "      <th>Low</th>\n",
       "      <th>Volume</th>\n",
       "    </tr>\n",
       "  </thead>\n",
       "  <tbody>\n",
       "    <tr>\n",
       "      <th>count</th>\n",
       "      <td>35.000000</td>\n",
       "      <td>35.000000</td>\n",
       "      <td>35.000000</td>\n",
       "      <td>3.500000e+01</td>\n",
       "    </tr>\n",
       "    <tr>\n",
       "      <th>mean</th>\n",
       "      <td>2466.907429</td>\n",
       "      <td>2490.780000</td>\n",
       "      <td>2445.025714</td>\n",
       "      <td>2.335596e+07</td>\n",
       "    </tr>\n",
       "    <tr>\n",
       "      <th>std</th>\n",
       "      <td>55.799654</td>\n",
       "      <td>55.630929</td>\n",
       "      <td>57.000809</td>\n",
       "      <td>8.760714e+06</td>\n",
       "    </tr>\n",
       "    <tr>\n",
       "      <th>min</th>\n",
       "      <td>2359.620000</td>\n",
       "      <td>2394.110000</td>\n",
       "      <td>2343.280000</td>\n",
       "      <td>1.546080e+07</td>\n",
       "    </tr>\n",
       "    <tr>\n",
       "      <th>25%</th>\n",
       "      <td>2427.900000</td>\n",
       "      <td>2455.810000</td>\n",
       "      <td>2405.670000</td>\n",
       "      <td>1.869160e+07</td>\n",
       "    </tr>\n",
       "    <tr>\n",
       "      <th>50%</th>\n",
       "      <td>2460.990000</td>\n",
       "      <td>2489.170000</td>\n",
       "      <td>2433.030000</td>\n",
       "      <td>2.158430e+07</td>\n",
       "    </tr>\n",
       "    <tr>\n",
       "      <th>75%</th>\n",
       "      <td>2494.290000</td>\n",
       "      <td>2514.150000</td>\n",
       "      <td>2471.200000</td>\n",
       "      <td>2.380445e+07</td>\n",
       "    </tr>\n",
       "    <tr>\n",
       "      <th>max</th>\n",
       "      <td>2590.500000</td>\n",
       "      <td>2626.420000</td>\n",
       "      <td>2576.820000</td>\n",
       "      <td>6.601140e+07</td>\n",
       "    </tr>\n",
       "  </tbody>\n",
       "</table>\n",
       "</div>"
      ],
      "text/plain": [
       "              Open         High          Low        Volume\n",
       "count    35.000000    35.000000    35.000000  3.500000e+01\n",
       "mean   2466.907429  2490.780000  2445.025714  2.335596e+07\n",
       "std      55.799654    55.630929    57.000809  8.760714e+06\n",
       "min    2359.620000  2394.110000  2343.280000  1.546080e+07\n",
       "25%    2427.900000  2455.810000  2405.670000  1.869160e+07\n",
       "50%    2460.990000  2489.170000  2433.030000  2.158430e+07\n",
       "75%    2494.290000  2514.150000  2471.200000  2.380445e+07\n",
       "max    2590.500000  2626.420000  2576.820000  6.601140e+07"
      ]
     },
     "execution_count": 9,
     "metadata": {},
     "output_type": "execute_result"
    }
   ],
   "source": [
    "data.describe()\n",
    "test_data1.describe()"
   ]
  },
  {
   "cell_type": "code",
   "execution_count": 10,
   "id": "37183237",
   "metadata": {
    "execution": {
     "iopub.execute_input": "2023-12-18T05:07:10.745432Z",
     "iopub.status.busy": "2023-12-18T05:07:10.744892Z",
     "iopub.status.idle": "2023-12-18T05:07:10.753686Z",
     "shell.execute_reply": "2023-12-18T05:07:10.752900Z"
    },
    "papermill": {
     "duration": 0.019662,
     "end_time": "2023-12-18T05:07:10.755505",
     "exception": false,
     "start_time": "2023-12-18T05:07:10.735843",
     "status": "completed"
    },
    "tags": []
   },
   "outputs": [
    {
     "data": {
      "text/plain": [
       "Date      0\n",
       "Open      0\n",
       "High      0\n",
       "Low       0\n",
       "Volume    0\n",
       "dtype: int64"
      ]
     },
     "execution_count": 10,
     "metadata": {},
     "output_type": "execute_result"
    }
   ],
   "source": [
    "data.isna().sum()\n",
    "test_data1.isna().sum()"
   ]
  },
  {
   "cell_type": "code",
   "execution_count": 11,
   "id": "2281a2a6",
   "metadata": {
    "execution": {
     "iopub.execute_input": "2023-12-18T05:07:10.772987Z",
     "iopub.status.busy": "2023-12-18T05:07:10.772571Z",
     "iopub.status.idle": "2023-12-18T05:07:10.970570Z",
     "shell.execute_reply": "2023-12-18T05:07:10.969579Z"
    },
    "papermill": {
     "duration": 0.208922,
     "end_time": "2023-12-18T05:07:10.972406",
     "exception": false,
     "start_time": "2023-12-18T05:07:10.763484",
     "status": "completed"
    },
    "tags": []
   },
   "outputs": [
    {
     "data": {
      "image/png": "[encoded data removed]",
      "text/plain": [
       "<Figure size 720x432 with 1 Axes>"
      ]
     },
     "metadata": {
      "needs_background": "light"
     },
     "output_type": "display_data"
    }
   ],
   "source": [
    "plt.figure(figsize=(10,6))\n",
    "plt.grid(True)\n",
    "plt.xlabel('Date')\n",
    "plt.ylabel('Close Prices')\n",
    "plt.plot(data['Close'])\n",
    "plt.title('Pearson-Spector Inc. (PSI US)')\n",
    "plt.show()"
   ]
  },
  {
   "cell_type": "code",
   "execution_count": 12,
   "id": "3528b596",
   "metadata": {
    "execution": {
     "iopub.execute_input": "2023-12-18T05:07:10.990908Z",
     "iopub.status.busy": "2023-12-18T05:07:10.990541Z",
     "iopub.status.idle": "2023-12-18T05:07:11.197173Z",
     "shell.execute_reply": "2023-12-18T05:07:11.196175Z"
    },
    "papermill": {
     "duration": 0.218281,
     "end_time": "2023-12-18T05:07:11.199145",
     "exception": false,
     "start_time": "2023-12-18T05:07:10.980864",
     "status": "completed"
    },
    "tags": []
   },
   "outputs": [
    {
     "data": {
      "text/plain": [
       "<AxesSubplot:ylabel='Density'>"
      ]
     },
     "execution_count": 12,
     "metadata": {},
     "output_type": "execute_result"
    },
    {
     "data": {
      "image/png": "[encoded data removed]",
      "text/plain": [
       "<Figure size 432x288 with 1 Axes>"
      ]
     },
     "metadata": {
      "needs_background": "light"
     },
     "output_type": "display_data"
    }
   ],
   "source": [
    "df_close = data['Close']\n",
    "df_close.plot(kind='kde')"
   ]
  },
  {
   "cell_type": "code",
   "execution_count": 13,
   "id": "14d87cb1",
   "metadata": {
    "execution": {
     "iopub.execute_input": "2023-12-18T05:07:11.218147Z",
     "iopub.status.busy": "2023-12-18T05:07:11.217782Z",
     "iopub.status.idle": "2023-12-18T05:07:11.451024Z",
     "shell.execute_reply": "2023-12-18T05:07:11.450244Z"
    },
    "papermill": {
     "duration": 0.245495,
     "end_time": "2023-12-18T05:07:11.453329",
     "exception": false,
     "start_time": "2023-12-18T05:07:11.207834",
     "status": "completed"
    },
    "tags": []
   },
   "outputs": [
    {
     "data": {
      "image/png": "[encoded data removed]",
      "text/plain": [
       "<Figure size 432x288 with 1 Axes>"
      ]
     },
     "metadata": {
      "needs_background": "light"
     },
     "output_type": "display_data"
    },
    {
     "name": "stdout",
     "output_type": "stream",
     "text": [
      "Results of dickey fuller test\n",
      "Test Statistics                  -0.961490\n",
      "p-value                           0.767050\n",
      "No. of lags used                  9.000000\n",
      "Number of observations used    1645.000000\n",
      "critical value (1%)              -3.434331\n",
      "critical value (5%)              -2.863299\n",
      "critical value (10%)             -2.567706\n",
      "dtype: float64\n"
     ]
    }
   ],
   "source": [
    "#Test for staionarity\n",
    "def test_stationarity(timeseries):\n",
    "    #Determing rolling statistics\n",
    "    rolmean = timeseries.rolling(12).mean()\n",
    "    rolstd = timeseries.rolling(12).std()\n",
    "    #Plot rolling statistics:\n",
    "    plt.plot(timeseries, color='blue',label='Original')\n",
    "    plt.plot(rolmean, color='red', label='Rolling Mean')\n",
    "    plt.plot(rolstd, color='black', label = 'Rolling Std')\n",
    "    plt.legend(loc='best')\n",
    "    plt.title('Rolling Mean and Standard Deviation')\n",
    "    plt.show(block=False)\n",
    "    print(\"Results of dickey fuller test\")\n",
    "    adft = adfuller(timeseries,autolag='AIC')\n",
    "    # output for dft will give us without defining what the values are.\n",
    "    #hence we manually write what values does it explains using a for loop\n",
    "    output = pd.Series(adft[0:4],index=['Test Statistics','p-value','No. of lags used','Number of observations used'])\n",
    "    for key,values in adft[4].items():\n",
    "        output['critical value (%s)'%key] =  values\n",
    "    print(output)\n",
    "test_stationarity(df_close)"
   ]
  },
  {
   "cell_type": "code",
   "execution_count": 14,
   "id": "10eb76c7",
   "metadata": {
    "execution": {
     "iopub.execute_input": "2023-12-18T05:07:11.480186Z",
     "iopub.status.busy": "2023-12-18T05:07:11.479182Z",
     "iopub.status.idle": "2023-12-18T05:07:12.048576Z",
     "shell.execute_reply": "2023-12-18T05:07:12.047791Z"
    },
    "papermill": {
     "duration": 0.585027,
     "end_time": "2023-12-18T05:07:12.050751",
     "exception": false,
     "start_time": "2023-12-18T05:07:11.465724",
     "status": "completed"
    },
    "tags": []
   },
   "outputs": [
    {
     "data": {
      "text/plain": [
       "<Figure size 432x288 with 0 Axes>"
      ]
     },
     "metadata": {},
     "output_type": "display_data"
    },
    {
     "data": {
      "image/png": "[encoded data removed]",
      "text/plain": [
       "<Figure size 1152x648 with 4 Axes>"
      ]
     },
     "metadata": {
      "needs_background": "light"
     },
     "output_type": "display_data"
    }
   ],
   "source": [
    "#To separate the trend and the seasonality from a time series, \n",
    "# we can decompose the series using the following code.\n",
    "result = seasonal_decompose(df_close, model='multiplicative', extrapolate_trend='freq', period=12)\n",
    "fig = plt.figure()  \n",
    "fig = result.plot()  \n",
    "fig.set_size_inches(16, 9)"
   ]
  },
  {
   "cell_type": "code",
   "execution_count": 15,
   "id": "463b545e",
   "metadata": {
    "execution": {
     "iopub.execute_input": "2023-12-18T05:07:12.073457Z",
     "iopub.status.busy": "2023-12-18T05:07:12.073026Z",
     "iopub.status.idle": "2023-12-18T05:07:12.239529Z",
     "shell.execute_reply": "2023-12-18T05:07:12.238569Z"
    },
    "papermill": {
     "duration": 0.180121,
     "end_time": "2023-12-18T05:07:12.241510",
     "exception": false,
     "start_time": "2023-12-18T05:07:12.061389",
     "status": "completed"
    },
    "tags": []
   },
   "outputs": [
    {
     "data": {
      "image/png": "[encoded data removed]",
      "text/plain": [
       "<Figure size 720x432 with 1 Axes>"
      ]
     },
     "metadata": {
      "needs_background": "light"
     },
     "output_type": "display_data"
    }
   ],
   "source": [
    "#if not stationary then eliminate trend\n",
    "#Eliminate trend\n",
    "from pylab import rcParams\n",
    "rcParams['figure.figsize'] = 10, 6\n",
    "df_log = np.log(df_close)\n",
    "moving_avg = df_log.rolling(12).mean()\n",
    "std_dev = df_log.rolling(12).std()\n",
    "plt.legend(loc='best')\n",
    "plt.title('Moving Average')\n",
    "plt.plot(std_dev, color =\"black\", label = \"Standard Deviation\")\n",
    "plt.plot(moving_avg, color=\"red\", label = \"Mean\")\n",
    "plt.legend()\n",
    "plt.show()"
   ]
  },
  {
   "cell_type": "code",
   "execution_count": 16,
   "id": "da468c5e",
   "metadata": {
    "execution": {
     "iopub.execute_input": "2023-12-18T05:07:12.265558Z",
     "iopub.status.busy": "2023-12-18T05:07:12.265194Z",
     "iopub.status.idle": "2023-12-18T05:07:12.283332Z",
     "shell.execute_reply": "2023-12-18T05:07:12.281603Z"
    },
    "papermill": {
     "duration": 0.033113,
     "end_time": "2023-12-18T05:07:12.286368",
     "exception": false,
     "start_time": "2023-12-18T05:07:12.253255",
     "status": "completed"
    },
    "tags": []
   },
   "outputs": [
    {
     "data": {
      "text/html": [
       "<div>\n",
       "<style scoped>\n",
       "    .dataframe tbody tr th:only-of-type {\n",
       "        vertical-align: middle;\n",
       "    }\n",
       "\n",
       "    .dataframe tbody tr th {\n",
       "        vertical-align: top;\n",
       "    }\n",
       "\n",
       "    .dataframe thead th {\n",
       "        text-align: right;\n",
       "    }\n",
       "</style>\n",
       "<table border=\"1\" class=\"dataframe\">\n",
       "  <thead>\n",
       "    <tr style=\"text-align: right;\">\n",
       "      <th></th>\n",
       "      <th>Open</th>\n",
       "      <th>High</th>\n",
       "      <th>Low</th>\n",
       "      <th>Volume</th>\n",
       "    </tr>\n",
       "  </thead>\n",
       "  <tbody>\n",
       "    <tr>\n",
       "      <th>0</th>\n",
       "      <td>2455.71</td>\n",
       "      <td>2500.26</td>\n",
       "      <td>2447.87</td>\n",
       "      <td>24327600</td>\n",
       "    </tr>\n",
       "    <tr>\n",
       "      <th>1</th>\n",
       "      <td>2466.68</td>\n",
       "      <td>2494.73</td>\n",
       "      <td>2447.99</td>\n",
       "      <td>19076300</td>\n",
       "    </tr>\n",
       "    <tr>\n",
       "      <th>2</th>\n",
       "      <td>2473.29</td>\n",
       "      <td>2507.59</td>\n",
       "      <td>2449.39</td>\n",
       "      <td>27459700</td>\n",
       "    </tr>\n",
       "    <tr>\n",
       "      <th>3</th>\n",
       "      <td>2475.98</td>\n",
       "      <td>2487.75</td>\n",
       "      <td>2419.88</td>\n",
       "      <td>23699600</td>\n",
       "    </tr>\n",
       "    <tr>\n",
       "      <th>4</th>\n",
       "      <td>2414.66</td>\n",
       "      <td>2444.17</td>\n",
       "      <td>2409.01</td>\n",
       "      <td>18912400</td>\n",
       "    </tr>\n",
       "    <tr>\n",
       "      <th>5</th>\n",
       "      <td>2444.97</td>\n",
       "      <td>2475.18</td>\n",
       "      <td>2433.03</td>\n",
       "      <td>18104900</td>\n",
       "    </tr>\n",
       "    <tr>\n",
       "      <th>6</th>\n",
       "      <td>2446.62</td>\n",
       "      <td>2458.88</td>\n",
       "      <td>2427.54</td>\n",
       "      <td>16715500</td>\n",
       "    </tr>\n",
       "    <tr>\n",
       "      <th>7</th>\n",
       "      <td>2481.04</td>\n",
       "      <td>2501.79</td>\n",
       "      <td>2463.66</td>\n",
       "      <td>22158000</td>\n",
       "    </tr>\n",
       "    <tr>\n",
       "      <th>8</th>\n",
       "      <td>2500.23</td>\n",
       "      <td>2508.87</td>\n",
       "      <td>2467.32</td>\n",
       "      <td>18470800</td>\n",
       "    </tr>\n",
       "    <tr>\n",
       "      <th>9</th>\n",
       "      <td>2494.85</td>\n",
       "      <td>2535.06</td>\n",
       "      <td>2486.40</td>\n",
       "      <td>18402700</td>\n",
       "    </tr>\n",
       "    <tr>\n",
       "      <th>10</th>\n",
       "      <td>2519.66</td>\n",
       "      <td>2547.44</td>\n",
       "      <td>2511.43</td>\n",
       "      <td>17864800</td>\n",
       "    </tr>\n",
       "    <tr>\n",
       "      <th>11</th>\n",
       "      <td>2590.50</td>\n",
       "      <td>2618.08</td>\n",
       "      <td>2576.82</td>\n",
       "      <td>34351100</td>\n",
       "    </tr>\n",
       "    <tr>\n",
       "      <th>12</th>\n",
       "      <td>2575.33</td>\n",
       "      <td>2626.42</td>\n",
       "      <td>2567.45</td>\n",
       "      <td>22437600</td>\n",
       "    </tr>\n",
       "    <tr>\n",
       "      <th>13</th>\n",
       "      <td>2578.78</td>\n",
       "      <td>2599.93</td>\n",
       "      <td>2562.89</td>\n",
       "      <td>16909700</td>\n",
       "    </tr>\n",
       "    <tr>\n",
       "      <th>14</th>\n",
       "      <td>2569.71</td>\n",
       "      <td>2572.30</td>\n",
       "      <td>2531.28</td>\n",
       "      <td>21584300</td>\n",
       "    </tr>\n",
       "    <tr>\n",
       "      <th>15</th>\n",
       "      <td>2510.94</td>\n",
       "      <td>2519.43</td>\n",
       "      <td>2481.41</td>\n",
       "      <td>20293600</td>\n",
       "    </tr>\n",
       "    <tr>\n",
       "      <th>16</th>\n",
       "      <td>2480.12</td>\n",
       "      <td>2497.21</td>\n",
       "      <td>2466.14</td>\n",
       "      <td>15460800</td>\n",
       "    </tr>\n",
       "    <tr>\n",
       "      <th>17</th>\n",
       "      <td>2478.61</td>\n",
       "      <td>2498.60</td>\n",
       "      <td>2465.58</td>\n",
       "      <td>16889700</td>\n",
       "    </tr>\n",
       "    <tr>\n",
       "      <th>18</th>\n",
       "      <td>2493.73</td>\n",
       "      <td>2522.98</td>\n",
       "      <td>2490.33</td>\n",
       "      <td>16221600</td>\n",
       "    </tr>\n",
       "    <tr>\n",
       "      <th>19</th>\n",
       "      <td>2507.51</td>\n",
       "      <td>2521.29</td>\n",
       "      <td>2423.23</td>\n",
       "      <td>32486500</td>\n",
       "    </tr>\n",
       "    <tr>\n",
       "      <th>20</th>\n",
       "      <td>2412.76</td>\n",
       "      <td>2452.74</td>\n",
       "      <td>2402.20</td>\n",
       "      <td>21193500</td>\n",
       "    </tr>\n",
       "    <tr>\n",
       "      <th>21</th>\n",
       "      <td>2439.72</td>\n",
       "      <td>2445.64</td>\n",
       "      <td>2405.10</td>\n",
       "      <td>21106600</td>\n",
       "    </tr>\n",
       "    <tr>\n",
       "      <th>22</th>\n",
       "      <td>2439.12</td>\n",
       "      <td>2450.36</td>\n",
       "      <td>2409.08</td>\n",
       "      <td>26958500</td>\n",
       "    </tr>\n",
       "    <tr>\n",
       "      <th>23</th>\n",
       "      <td>2416.31</td>\n",
       "      <td>2459.01</td>\n",
       "      <td>2406.46</td>\n",
       "      <td>23909300</td>\n",
       "    </tr>\n",
       "    <tr>\n",
       "      <th>24</th>\n",
       "      <td>2457.14</td>\n",
       "      <td>2468.18</td>\n",
       "      <td>2406.24</td>\n",
       "      <td>21386700</td>\n",
       "    </tr>\n",
       "    <tr>\n",
       "      <th>25</th>\n",
       "      <td>2412.55</td>\n",
       "      <td>2424.43</td>\n",
       "      <td>2375.72</td>\n",
       "      <td>21822300</td>\n",
       "    </tr>\n",
       "    <tr>\n",
       "      <th>26</th>\n",
       "      <td>2409.52</td>\n",
       "      <td>2465.33</td>\n",
       "      <td>2405.07</td>\n",
       "      <td>23680100</td>\n",
       "    </tr>\n",
       "    <tr>\n",
       "      <th>27</th>\n",
       "      <td>2444.73</td>\n",
       "      <td>2471.05</td>\n",
       "      <td>2430.27</td>\n",
       "      <td>22386000</td>\n",
       "    </tr>\n",
       "    <tr>\n",
       "      <th>28</th>\n",
       "      <td>2460.99</td>\n",
       "      <td>2489.17</td>\n",
       "      <td>2458.87</td>\n",
       "      <td>22389000</td>\n",
       "    </tr>\n",
       "    <tr>\n",
       "      <th>29</th>\n",
       "      <td>2484.90</td>\n",
       "      <td>2502.01</td>\n",
       "      <td>2475.08</td>\n",
       "      <td>20299300</td>\n",
       "    </tr>\n",
       "    <tr>\n",
       "      <th>30</th>\n",
       "      <td>2457.13</td>\n",
       "      <td>2472.09</td>\n",
       "      <td>2404.74</td>\n",
       "      <td>33537400</td>\n",
       "    </tr>\n",
       "    <tr>\n",
       "      <th>31</th>\n",
       "      <td>2416.68</td>\n",
       "      <td>2431.15</td>\n",
       "      <td>2393.45</td>\n",
       "      <td>23092600</td>\n",
       "    </tr>\n",
       "    <tr>\n",
       "      <th>32</th>\n",
       "      <td>2407.20</td>\n",
       "      <td>2417.90</td>\n",
       "      <td>2372.21</td>\n",
       "      <td>27336300</td>\n",
       "    </tr>\n",
       "    <tr>\n",
       "      <th>33</th>\n",
       "      <td>2359.62</td>\n",
       "      <td>2394.11</td>\n",
       "      <td>2343.28</td>\n",
       "      <td>66011400</td>\n",
       "    </tr>\n",
       "    <tr>\n",
       "      <th>34</th>\n",
       "      <td>2364.47</td>\n",
       "      <td>2396.17</td>\n",
       "      <td>2359.48</td>\n",
       "      <td>20522500</td>\n",
       "    </tr>\n",
       "  </tbody>\n",
       "</table>\n",
       "</div>"
      ],
      "text/plain": [
       "       Open     High      Low    Volume\n",
       "0   2455.71  2500.26  2447.87  24327600\n",
       "1   2466.68  2494.73  2447.99  19076300\n",
       "2   2473.29  2507.59  2449.39  27459700\n",
       "3   2475.98  2487.75  2419.88  23699600\n",
       "4   2414.66  2444.17  2409.01  18912400\n",
       "5   2444.97  2475.18  2433.03  18104900\n",
       "6   2446.62  2458.88  2427.54  16715500\n",
       "7   2481.04  2501.79  2463.66  22158000\n",
       "8   2500.23  2508.87  2467.32  18470800\n",
       "9   2494.85  2535.06  2486.40  18402700\n",
       "10  2519.66  2547.44  2511.43  17864800\n",
       "11  2590.50  2618.08  2576.82  34351100\n",
       "12  2575.33  2626.42  2567.45  22437600\n",
       "13  2578.78  2599.93  2562.89  16909700\n",
       "14  2569.71  2572.30  2531.28  21584300\n",
       "15  2510.94  2519.43  2481.41  20293600\n",
       "16  2480.12  2497.21  2466.14  15460800\n",
       "17  2478.61  2498.60  2465.58  16889700\n",
       "18  2493.73  2522.98  2490.33  16221600\n",
       "19  2507.51  2521.29  2423.23  32486500\n",
       "20  2412.76  2452.74  2402.20  21193500\n",
       "21  2439.72  2445.64  2405.10  21106600\n",
       "22  2439.12  2450.36  2409.08  26958500\n",
       "23  2416.31  2459.01  2406.46  23909300\n",
       "24  2457.14  2468.18  2406.24  21386700\n",
       "25  2412.55  2424.43  2375.72  21822300\n",
       "26  2409.52  2465.33  2405.07  23680100\n",
       "27  2444.73  2471.05  2430.27  22386000\n",
       "28  2460.99  2489.17  2458.87  22389000\n",
       "29  2484.90  2502.01  2475.08  20299300\n",
       "30  2457.13  2472.09  2404.74  33537400\n",
       "31  2416.68  2431.15  2393.45  23092600\n",
       "32  2407.20  2417.90  2372.21  27336300\n",
       "33  2359.62  2394.11  2343.28  66011400\n",
       "34  2364.47  2396.17  2359.48  20522500"
      ]
     },
     "execution_count": 16,
     "metadata": {},
     "output_type": "execute_result"
    }
   ],
   "source": [
    "df_Train=data.iloc[:,:]\n",
    "df_Test=test_data1.iloc[:,1:]\n",
    "df_Test"
   ]
  },
  {
   "cell_type": "code",
   "execution_count": 17,
   "id": "7df3e1d8",
   "metadata": {
    "execution": {
     "iopub.execute_input": "2023-12-18T05:07:12.311004Z",
     "iopub.status.busy": "2023-12-18T05:07:12.310620Z",
     "iopub.status.idle": "2023-12-18T05:07:12.316370Z",
     "shell.execute_reply": "2023-12-18T05:07:12.315301Z"
    },
    "papermill": {
     "duration": 0.021141,
     "end_time": "2023-12-18T05:07:12.319138",
     "exception": false,
     "start_time": "2023-12-18T05:07:12.297997",
     "status": "completed"
    },
    "tags": []
   },
   "outputs": [],
   "source": [
    "#split data into train and training set\n",
    "train_data, test_data = data[0:int(len(data)*0.7)], data[int(len(data)* 0.7):]"
   ]
  },
  {
   "cell_type": "code",
   "execution_count": 18,
   "id": "bac6f16f",
   "metadata": {
    "execution": {
     "iopub.execute_input": "2023-12-18T05:07:12.345009Z",
     "iopub.status.busy": "2023-12-18T05:07:12.344610Z",
     "iopub.status.idle": "2023-12-18T05:07:12.361423Z",
     "shell.execute_reply": "2023-12-18T05:07:12.360434Z"
    },
    "papermill": {
     "duration": 0.032054,
     "end_time": "2023-12-18T05:07:12.363239",
     "exception": false,
     "start_time": "2023-12-18T05:07:12.331185",
     "status": "completed"
    },
    "tags": []
   },
   "outputs": [
    {
     "data": {
      "text/html": [
       "<div>\n",
       "<style scoped>\n",
       "    .dataframe tbody tr th:only-of-type {\n",
       "        vertical-align: middle;\n",
       "    }\n",
       "\n",
       "    .dataframe tbody tr th {\n",
       "        vertical-align: top;\n",
       "    }\n",
       "\n",
       "    .dataframe thead th {\n",
       "        text-align: right;\n",
       "    }\n",
       "</style>\n",
       "<table border=\"1\" class=\"dataframe\">\n",
       "  <thead>\n",
       "    <tr style=\"text-align: right;\">\n",
       "      <th></th>\n",
       "      <th>Date</th>\n",
       "      <th>Open</th>\n",
       "      <th>High</th>\n",
       "      <th>Low</th>\n",
       "      <th>Close</th>\n",
       "      <th>Volume</th>\n",
       "    </tr>\n",
       "  </thead>\n",
       "  <tbody>\n",
       "    <tr>\n",
       "      <th>1158</th>\n",
       "      <td>2020-08-10</td>\n",
       "      <td>2129.29</td>\n",
       "      <td>2158.27</td>\n",
       "      <td>2117.85</td>\n",
       "      <td>2150.37</td>\n",
       "      <td>26451200</td>\n",
       "    </tr>\n",
       "    <tr>\n",
       "      <th>1159</th>\n",
       "      <td>2020-08-11</td>\n",
       "      <td>2157.05</td>\n",
       "      <td>2165.96</td>\n",
       "      <td>2120.24</td>\n",
       "      <td>2126.25</td>\n",
       "      <td>30291500</td>\n",
       "    </tr>\n",
       "    <tr>\n",
       "      <th>1160</th>\n",
       "      <td>2020-08-12</td>\n",
       "      <td>2131.07</td>\n",
       "      <td>2159.73</td>\n",
       "      <td>2115.47</td>\n",
       "      <td>2153.99</td>\n",
       "      <td>29436400</td>\n",
       "    </tr>\n",
       "    <tr>\n",
       "      <th>1161</th>\n",
       "      <td>2020-08-13</td>\n",
       "      <td>2147.67</td>\n",
       "      <td>2165.05</td>\n",
       "      <td>2141.51</td>\n",
       "      <td>2157.45</td>\n",
       "      <td>29848000</td>\n",
       "    </tr>\n",
       "    <tr>\n",
       "      <th>1162</th>\n",
       "      <td>2020-08-14</td>\n",
       "      <td>2161.97</td>\n",
       "      <td>2171.08</td>\n",
       "      <td>2149.79</td>\n",
       "      <td>2162.25</td>\n",
       "      <td>27912600</td>\n",
       "    </tr>\n",
       "    <tr>\n",
       "      <th>...</th>\n",
       "      <td>...</td>\n",
       "      <td>...</td>\n",
       "      <td>...</td>\n",
       "      <td>...</td>\n",
       "      <td>...</td>\n",
       "      <td>...</td>\n",
       "    </tr>\n",
       "    <tr>\n",
       "      <th>1650</th>\n",
       "      <td>2022-07-25</td>\n",
       "      <td>2412.25</td>\n",
       "      <td>2429.44</td>\n",
       "      <td>2387.41</td>\n",
       "      <td>2402.95</td>\n",
       "      <td>29106300</td>\n",
       "    </tr>\n",
       "    <tr>\n",
       "      <th>1651</th>\n",
       "      <td>2022-07-26</td>\n",
       "      <td>2289.29</td>\n",
       "      <td>2307.08</td>\n",
       "      <td>2255.66</td>\n",
       "      <td>2280.27</td>\n",
       "      <td>48503400</td>\n",
       "    </tr>\n",
       "    <tr>\n",
       "      <th>1652</th>\n",
       "      <td>2022-07-27</td>\n",
       "      <td>2309.14</td>\n",
       "      <td>2404.25</td>\n",
       "      <td>2296.82</td>\n",
       "      <td>2395.54</td>\n",
       "      <td>43790900</td>\n",
       "    </tr>\n",
       "    <tr>\n",
       "      <th>1653</th>\n",
       "      <td>2022-07-28</td>\n",
       "      <td>2385.58</td>\n",
       "      <td>2443.26</td>\n",
       "      <td>2377.34</td>\n",
       "      <td>2434.89</td>\n",
       "      <td>25807000</td>\n",
       "    </tr>\n",
       "    <tr>\n",
       "      <th>1654</th>\n",
       "      <td>2022-07-29</td>\n",
       "      <td>2410.86</td>\n",
       "      <td>2479.24</td>\n",
       "      <td>2406.35</td>\n",
       "      <td>2474.93</td>\n",
       "      <td>32907600</td>\n",
       "    </tr>\n",
       "  </tbody>\n",
       "</table>\n",
       "<p>497 rows × 6 columns</p>\n",
       "</div>"
      ],
      "text/plain": [
       "           Date     Open     High      Low    Close    Volume\n",
       "1158 2020-08-10  2129.29  2158.27  2117.85  2150.37  26451200\n",
       "1159 2020-08-11  2157.05  2165.96  2120.24  2126.25  30291500\n",
       "1160 2020-08-12  2131.07  2159.73  2115.47  2153.99  29436400\n",
       "1161 2020-08-13  2147.67  2165.05  2141.51  2157.45  29848000\n",
       "1162 2020-08-14  2161.97  2171.08  2149.79  2162.25  27912600\n",
       "...         ...      ...      ...      ...      ...       ...\n",
       "1650 2022-07-25  2412.25  2429.44  2387.41  2402.95  29106300\n",
       "1651 2022-07-26  2289.29  2307.08  2255.66  2280.27  48503400\n",
       "1652 2022-07-27  2309.14  2404.25  2296.82  2395.54  43790900\n",
       "1653 2022-07-28  2385.58  2443.26  2377.34  2434.89  25807000\n",
       "1654 2022-07-29  2410.86  2479.24  2406.35  2474.93  32907600\n",
       "\n",
       "[497 rows x 6 columns]"
      ]
     },
     "execution_count": 18,
     "metadata": {},
     "output_type": "execute_result"
    }
   ],
   "source": [
    "test_data"
   ]
  },
  {
   "cell_type": "code",
   "execution_count": 19,
   "id": "d043a86a",
   "metadata": {
    "execution": {
     "iopub.execute_input": "2023-12-18T05:07:12.387363Z",
     "iopub.status.busy": "2023-12-18T05:07:12.386975Z",
     "iopub.status.idle": "2023-12-18T05:07:12.395090Z",
     "shell.execute_reply": "2023-12-18T05:07:12.393787Z"
    },
    "papermill": {
     "duration": 0.022514,
     "end_time": "2023-12-18T05:07:12.397004",
     "exception": false,
     "start_time": "2023-12-18T05:07:12.374490",
     "status": "completed"
    },
    "tags": []
   },
   "outputs": [
    {
     "data": {
      "text/plain": [
       "1148.57"
      ]
     },
     "execution_count": 19,
     "metadata": {},
     "output_type": "execute_result"
    }
   ],
   "source": [
    "int(len(data))*0.694"
   ]
  },
  {
   "cell_type": "code",
   "execution_count": 20,
   "id": "813955f3",
   "metadata": {
    "execution": {
     "iopub.execute_input": "2023-12-18T05:07:12.422820Z",
     "iopub.status.busy": "2023-12-18T05:07:12.422362Z",
     "iopub.status.idle": "2023-12-18T05:07:13.844139Z",
     "shell.execute_reply": "2023-12-18T05:07:13.842887Z"
    },
    "papermill": {
     "duration": 1.437072,
     "end_time": "2023-12-18T05:07:13.845985",
     "exception": false,
     "start_time": "2023-12-18T05:07:12.408913",
     "status": "completed"
    },
    "tags": []
   },
   "outputs": [
    {
     "name": "stdout",
     "output_type": "stream",
     "text": [
      "Performing stepwise search to minimize aic\n",
      " ARIMA(0,1,0)(0,0,0)[0] intercept   : AIC=10026.957, Time=0.06 sec\n",
      " ARIMA(1,1,0)(0,0,0)[0] intercept   : AIC=9971.963, Time=0.06 sec\n",
      " ARIMA(0,1,1)(0,0,0)[0] intercept   : AIC=9975.109, Time=0.11 sec\n",
      " ARIMA(0,1,0)(0,0,0)[0]             : AIC=10027.604, Time=0.02 sec\n",
      " ARIMA(2,1,0)(0,0,0)[0] intercept   : AIC=9973.896, Time=0.12 sec\n",
      " ARIMA(1,1,1)(0,0,0)[0] intercept   : AIC=9973.901, Time=0.16 sec\n",
      " ARIMA(2,1,1)(0,0,0)[0] intercept   : AIC=9975.960, Time=0.20 sec\n",
      " ARIMA(1,1,0)(0,0,0)[0]             : AIC=9974.057, Time=0.03 sec\n",
      "\n",
      "Best model:  ARIMA(1,1,0)(0,0,0)[0] intercept\n",
      "Total fit time: 0.787 seconds\n",
      "                               SARIMAX Results                                \n",
      "==============================================================================\n",
      "Dep. Variable:                      y   No. Observations:                 1158\n",
      "Model:               SARIMAX(1, 1, 0)   Log Likelihood               -4982.982\n",
      "Date:                Mon, 18 Dec 2023   AIC                           9971.963\n",
      "Time:                        05:07:13   BIC                           9987.124\n",
      "Sample:                             0   HQIC                          9977.685\n",
      "                               - 1158                                         \n",
      "Covariance Type:                  opg                                         \n",
      "==============================================================================\n",
      "                 coef    std err          z      P>|z|      [0.025      0.975]\n",
      "------------------------------------------------------------------------------\n",
      "intercept      1.0600      0.543      1.953      0.051      -0.004       2.123\n",
      "ar.L1         -0.2192      0.010    -22.896      0.000      -0.238      -0.200\n",
      "sigma2       322.4541      4.432     72.763      0.000     313.768     331.140\n",
      "===================================================================================\n",
      "Ljung-Box (L1) (Q):                   0.00   Jarque-Bera (JB):             13388.17\n",
      "Prob(Q):                              0.96   Prob(JB):                         0.00\n",
      "Heteroskedasticity (H):               6.19   Skew:                            -0.01\n",
      "Prob(H) (two-sided):                  0.00   Kurtosis:                        19.66\n",
      "===================================================================================\n",
      "\n",
      "Warnings:\n",
      "[1] Covariance matrix calculated using the outer product of gradients (complex-step).\n"
     ]
    },
    {
     "data": {
      "image/png": "[encoded data removed]",
      "text/plain": [
       "<Figure size 1080x576 with 4 Axes>"
      ]
     },
     "metadata": {
      "needs_background": "light"
     },
     "output_type": "display_data"
    }
   ],
   "source": [
    "model_autoARIMA = auto_arima(train_data['Close'], start_p=0, start_q=0,\n",
    "                      test='adf',       # use adftest to find optimal 'd'\n",
    "                      max_p=3, max_q=3, # maximum p and q\n",
    "                      m=1,              # frequency of series\n",
    "                      d=None,           # let model determine 'd'\n",
    "                      seasonal=False,   # No Seasonality\n",
    "                      start_P=0, \n",
    "                      D=0, \n",
    "                      trace=True,\n",
    "                      error_action='ignore',  \n",
    "                      suppress_warnings=True, \n",
    "                      stepwise=True)\n",
    "print(model_autoARIMA.summary())\n",
    "model_autoARIMA.plot_diagnostics(figsize=(15,8))\n",
    "plt.show()"
   ]
  },
  {
   "cell_type": "code",
   "execution_count": 21,
   "id": "0944d3aa",
   "metadata": {
    "execution": {
     "iopub.execute_input": "2023-12-18T05:07:13.873493Z",
     "iopub.status.busy": "2023-12-18T05:07:13.872946Z",
     "iopub.status.idle": "2023-12-18T05:07:13.917606Z",
     "shell.execute_reply": "2023-12-18T05:07:13.916287Z"
    },
    "papermill": {
     "duration": 0.061043,
     "end_time": "2023-12-18T05:07:13.919923",
     "exception": false,
     "start_time": "2023-12-18T05:07:13.858880",
     "status": "completed"
    },
    "tags": []
   },
   "outputs": [
    {
     "data": {
      "text/plain": [
       "1158    2127.687788\n",
       "1159    2127.915597\n",
       "1160    2127.866275\n",
       "1161    2127.876954\n",
       "1162    2127.874642\n",
       "           ...     \n",
       "1650    2127.875053\n",
       "1651    2127.875053\n",
       "1652    2127.875053\n",
       "1653    2127.875053\n",
       "1654    2127.875053\n",
       "Name: predicted_mean, Length: 497, dtype: float64"
      ]
     },
     "execution_count": 21,
     "metadata": {},
     "output_type": "execute_result"
    }
   ],
   "source": [
    "import statsmodels.api as sm\n",
    "model = sm.tsa.arima.ARIMA(train_data['Close'], order=(1,1,0))\n",
    "arima = model.fit()\n",
    "arima.summary\n",
    "result = arima.forecast(497, alpha =0.05 )\n",
    "result"
   ]
  },
  {
   "cell_type": "code",
   "execution_count": 22,
   "id": "a43f89b9",
   "metadata": {
    "execution": {
     "iopub.execute_input": "2023-12-18T05:07:13.947452Z",
     "iopub.status.busy": "2023-12-18T05:07:13.946307Z",
     "iopub.status.idle": "2023-12-18T05:07:13.957765Z",
     "shell.execute_reply": "2023-12-18T05:07:13.956447Z"
    },
    "papermill": {
     "duration": 0.027457,
     "end_time": "2023-12-18T05:07:13.960040",
     "exception": false,
     "start_time": "2023-12-18T05:07:13.932583",
     "status": "completed"
    },
    "tags": []
   },
   "outputs": [
    {
     "name": "stdout",
     "output_type": "stream",
     "text": [
      "                               SARIMAX Results                                \n",
      "==============================================================================\n",
      "Dep. Variable:                  Close   No. Observations:                 1158\n",
      "Model:                 ARIMA(1, 1, 0)   Log Likelihood               -4985.028\n",
      "Date:                Mon, 18 Dec 2023   AIC                           9974.057\n",
      "Time:                        05:07:13   BIC                           9984.164\n",
      "Sample:                             0   HQIC                          9977.871\n",
      "                               - 1158                                         \n",
      "Covariance Type:                  opg                                         \n",
      "==============================================================================\n",
      "                 coef    std err          z      P>|z|      [0.025      0.975]\n",
      "------------------------------------------------------------------------------\n",
      "ar.L1         -0.2165      0.009    -23.171      0.000      -0.235      -0.198\n",
      "sigma2       323.5752      4.465     72.462      0.000     314.823     332.327\n",
      "===================================================================================\n",
      "Ljung-Box (L1) (Q):                   0.00   Jarque-Bera (JB):             13421.16\n",
      "Prob(Q):                              0.97   Prob(JB):                         0.00\n",
      "Heteroskedasticity (H):               6.19   Skew:                            -0.00\n",
      "Prob(H) (two-sided):                  0.00   Kurtosis:                        19.69\n",
      "===================================================================================\n",
      "\n",
      "Warnings:\n",
      "[1] Covariance matrix calculated using the outer product of gradients (complex-step).\n"
     ]
    }
   ],
   "source": [
    "m1 = arima\n",
    "print(m1.summary())"
   ]
  },
  {
   "cell_type": "code",
   "execution_count": 23,
   "id": "880abc4c",
   "metadata": {
    "execution": {
     "iopub.execute_input": "2023-12-18T05:07:13.987632Z",
     "iopub.status.busy": "2023-12-18T05:07:13.987169Z",
     "iopub.status.idle": "2023-12-18T05:07:13.997910Z",
     "shell.execute_reply": "2023-12-18T05:07:13.996959Z"
    },
    "papermill": {
     "duration": 0.027398,
     "end_time": "2023-12-18T05:07:14.000682",
     "exception": false,
     "start_time": "2023-12-18T05:07:13.973284",
     "status": "completed"
    },
    "tags": []
   },
   "outputs": [],
   "source": [
    "forecast_data=pd.read_csv(\"../input/data-analytics-ue20cs312/train.csv\")\n",
    "forecast_data['Date']=pd.to_datetime(forecast_data['Date'])\n",
    "forecast_data.rename(columns={'Date':'ds'},inplace=True)\n"
   ]
  },
  {
   "cell_type": "code",
   "execution_count": 24,
   "id": "8d812a00",
   "metadata": {
    "execution": {
     "iopub.execute_input": "2023-12-18T05:07:14.029910Z",
     "iopub.status.busy": "2023-12-18T05:07:14.029442Z",
     "iopub.status.idle": "2023-12-18T05:07:14.034590Z",
     "shell.execute_reply": "2023-12-18T05:07:14.033194Z"
    },
    "papermill": {
     "duration": 0.021707,
     "end_time": "2023-12-18T05:07:14.037084",
     "exception": false,
     "start_time": "2023-12-18T05:07:14.015377",
     "status": "completed"
    },
    "tags": []
   },
   "outputs": [],
   "source": [
    "# result1=result[:35]\n",
    "# result1"
   ]
  },
  {
   "cell_type": "code",
   "execution_count": 25,
   "id": "b19b6200",
   "metadata": {
    "execution": {
     "iopub.execute_input": "2023-12-18T05:07:14.063953Z",
     "iopub.status.busy": "2023-12-18T05:07:14.063542Z",
     "iopub.status.idle": "2023-12-18T05:07:14.069097Z",
     "shell.execute_reply": "2023-12-18T05:07:14.067614Z"
    },
    "papermill": {
     "duration": 0.021631,
     "end_time": "2023-12-18T05:07:14.071456",
     "exception": false,
     "start_time": "2023-12-18T05:07:14.049825",
     "status": "completed"
    },
    "tags": []
   },
   "outputs": [],
   "source": [
    "# result.to_csv(\"submission.csv\",index=False,)"
   ]
  },
  {
   "cell_type": "code",
   "execution_count": 26,
   "id": "71099c35",
   "metadata": {
    "execution": {
     "iopub.execute_input": "2023-12-18T05:07:14.100095Z",
     "iopub.status.busy": "2023-12-18T05:07:14.099751Z",
     "iopub.status.idle": "2023-12-18T05:07:14.111159Z",
     "shell.execute_reply": "2023-12-18T05:07:14.110181Z"
    },
    "papermill": {
     "duration": 0.027794,
     "end_time": "2023-12-18T05:07:14.113047",
     "exception": false,
     "start_time": "2023-12-18T05:07:14.085253",
     "status": "completed"
    },
    "tags": []
   },
   "outputs": [
    {
     "data": {
      "text/html": [
       "<div>\n",
       "<style scoped>\n",
       "    .dataframe tbody tr th:only-of-type {\n",
       "        vertical-align: middle;\n",
       "    }\n",
       "\n",
       "    .dataframe tbody tr th {\n",
       "        vertical-align: top;\n",
       "    }\n",
       "\n",
       "    .dataframe thead th {\n",
       "        text-align: right;\n",
       "    }\n",
       "</style>\n",
       "<table border=\"1\" class=\"dataframe\">\n",
       "  <thead>\n",
       "    <tr style=\"text-align: right;\">\n",
       "      <th></th>\n",
       "      <th>Date</th>\n",
       "    </tr>\n",
       "  </thead>\n",
       "  <tbody>\n",
       "    <tr>\n",
       "      <th>0</th>\n",
       "      <td>2022-08-01</td>\n",
       "    </tr>\n",
       "    <tr>\n",
       "      <th>1</th>\n",
       "      <td>2022-08-02</td>\n",
       "    </tr>\n",
       "    <tr>\n",
       "      <th>2</th>\n",
       "      <td>2022-08-03</td>\n",
       "    </tr>\n",
       "    <tr>\n",
       "      <th>3</th>\n",
       "      <td>2022-08-04</td>\n",
       "    </tr>\n",
       "    <tr>\n",
       "      <th>4</th>\n",
       "      <td>2022-08-05</td>\n",
       "    </tr>\n",
       "    <tr>\n",
       "      <th>5</th>\n",
       "      <td>2022-08-08</td>\n",
       "    </tr>\n",
       "    <tr>\n",
       "      <th>6</th>\n",
       "      <td>2022-08-09</td>\n",
       "    </tr>\n",
       "    <tr>\n",
       "      <th>7</th>\n",
       "      <td>2022-08-10</td>\n",
       "    </tr>\n",
       "    <tr>\n",
       "      <th>8</th>\n",
       "      <td>2022-08-11</td>\n",
       "    </tr>\n",
       "    <tr>\n",
       "      <th>9</th>\n",
       "      <td>2022-08-12</td>\n",
       "    </tr>\n",
       "    <tr>\n",
       "      <th>10</th>\n",
       "      <td>2022-08-15</td>\n",
       "    </tr>\n",
       "    <tr>\n",
       "      <th>11</th>\n",
       "      <td>2022-08-16</td>\n",
       "    </tr>\n",
       "    <tr>\n",
       "      <th>12</th>\n",
       "      <td>2022-08-17</td>\n",
       "    </tr>\n",
       "    <tr>\n",
       "      <th>13</th>\n",
       "      <td>2022-08-18</td>\n",
       "    </tr>\n",
       "    <tr>\n",
       "      <th>14</th>\n",
       "      <td>2022-08-19</td>\n",
       "    </tr>\n",
       "    <tr>\n",
       "      <th>15</th>\n",
       "      <td>2022-08-22</td>\n",
       "    </tr>\n",
       "    <tr>\n",
       "      <th>16</th>\n",
       "      <td>2022-08-23</td>\n",
       "    </tr>\n",
       "    <tr>\n",
       "      <th>17</th>\n",
       "      <td>2022-08-24</td>\n",
       "    </tr>\n",
       "    <tr>\n",
       "      <th>18</th>\n",
       "      <td>2022-08-25</td>\n",
       "    </tr>\n",
       "    <tr>\n",
       "      <th>19</th>\n",
       "      <td>2022-08-26</td>\n",
       "    </tr>\n",
       "    <tr>\n",
       "      <th>20</th>\n",
       "      <td>2022-08-29</td>\n",
       "    </tr>\n",
       "    <tr>\n",
       "      <th>21</th>\n",
       "      <td>2022-08-30</td>\n",
       "    </tr>\n",
       "    <tr>\n",
       "      <th>22</th>\n",
       "      <td>2022-08-31</td>\n",
       "    </tr>\n",
       "    <tr>\n",
       "      <th>23</th>\n",
       "      <td>2022-09-01</td>\n",
       "    </tr>\n",
       "    <tr>\n",
       "      <th>24</th>\n",
       "      <td>2022-09-02</td>\n",
       "    </tr>\n",
       "    <tr>\n",
       "      <th>25</th>\n",
       "      <td>2022-09-06</td>\n",
       "    </tr>\n",
       "    <tr>\n",
       "      <th>26</th>\n",
       "      <td>2022-09-07</td>\n",
       "    </tr>\n",
       "    <tr>\n",
       "      <th>27</th>\n",
       "      <td>2022-09-08</td>\n",
       "    </tr>\n",
       "    <tr>\n",
       "      <th>28</th>\n",
       "      <td>2022-09-09</td>\n",
       "    </tr>\n",
       "    <tr>\n",
       "      <th>29</th>\n",
       "      <td>2022-09-12</td>\n",
       "    </tr>\n",
       "    <tr>\n",
       "      <th>30</th>\n",
       "      <td>2022-09-13</td>\n",
       "    </tr>\n",
       "    <tr>\n",
       "      <th>31</th>\n",
       "      <td>2022-09-14</td>\n",
       "    </tr>\n",
       "    <tr>\n",
       "      <th>32</th>\n",
       "      <td>2022-09-15</td>\n",
       "    </tr>\n",
       "    <tr>\n",
       "      <th>33</th>\n",
       "      <td>2022-09-16</td>\n",
       "    </tr>\n",
       "    <tr>\n",
       "      <th>34</th>\n",
       "      <td>2022-09-19</td>\n",
       "    </tr>\n",
       "  </tbody>\n",
       "</table>\n",
       "</div>"
      ],
      "text/plain": [
       "          Date\n",
       "0   2022-08-01\n",
       "1   2022-08-02\n",
       "2   2022-08-03\n",
       "3   2022-08-04\n",
       "4   2022-08-05\n",
       "5   2022-08-08\n",
       "6   2022-08-09\n",
       "7   2022-08-10\n",
       "8   2022-08-11\n",
       "9   2022-08-12\n",
       "10  2022-08-15\n",
       "11  2022-08-16\n",
       "12  2022-08-17\n",
       "13  2022-08-18\n",
       "14  2022-08-19\n",
       "15  2022-08-22\n",
       "16  2022-08-23\n",
       "17  2022-08-24\n",
       "18  2022-08-25\n",
       "19  2022-08-26\n",
       "20  2022-08-29\n",
       "21  2022-08-30\n",
       "22  2022-08-31\n",
       "23  2022-09-01\n",
       "24  2022-09-02\n",
       "25  2022-09-06\n",
       "26  2022-09-07\n",
       "27  2022-09-08\n",
       "28  2022-09-09\n",
       "29  2022-09-12\n",
       "30  2022-09-13\n",
       "31  2022-09-14\n",
       "32  2022-09-15\n",
       "33  2022-09-16\n",
       "34  2022-09-19"
      ]
     },
     "execution_count": 26,
     "metadata": {},
     "output_type": "execute_result"
    }
   ],
   "source": [
    "submission =test_data1[[\"Date\"]]\n",
    "submission"
   ]
  },
  {
   "cell_type": "code",
   "execution_count": 27,
   "id": "d1e6d59c",
   "metadata": {
    "execution": {
     "iopub.execute_input": "2023-12-18T05:07:14.141721Z",
     "iopub.status.busy": "2023-12-18T05:07:14.141283Z",
     "iopub.status.idle": "2023-12-18T05:07:14.147899Z",
     "shell.execute_reply": "2023-12-18T05:07:14.146787Z"
    },
    "papermill": {
     "duration": 0.023393,
     "end_time": "2023-12-18T05:07:14.149957",
     "exception": false,
     "start_time": "2023-12-18T05:07:14.126564",
     "status": "completed"
    },
    "tags": []
   },
   "outputs": [],
   "source": [
    "submission[\"Close\"] = result"
   ]
  },
  {
   "cell_type": "code",
   "execution_count": 28,
   "id": "e3472207",
   "metadata": {
    "execution": {
     "iopub.execute_input": "2023-12-18T05:07:14.179220Z",
     "iopub.status.busy": "2023-12-18T05:07:14.178795Z",
     "iopub.status.idle": "2023-12-18T05:07:14.191954Z",
     "shell.execute_reply": "2023-12-18T05:07:14.190998Z"
    },
    "papermill": {
     "duration": 0.030086,
     "end_time": "2023-12-18T05:07:14.193919",
     "exception": false,
     "start_time": "2023-12-18T05:07:14.163833",
     "status": "completed"
    },
    "tags": []
   },
   "outputs": [
    {
     "data": {
      "text/html": [
       "<div>\n",
       "<style scoped>\n",
       "    .dataframe tbody tr th:only-of-type {\n",
       "        vertical-align: middle;\n",
       "    }\n",
       "\n",
       "    .dataframe tbody tr th {\n",
       "        vertical-align: top;\n",
       "    }\n",
       "\n",
       "    .dataframe thead th {\n",
       "        text-align: right;\n",
       "    }\n",
       "</style>\n",
       "<table border=\"1\" class=\"dataframe\">\n",
       "  <thead>\n",
       "    <tr style=\"text-align: right;\">\n",
       "      <th></th>\n",
       "      <th>Date</th>\n",
       "      <th>Close</th>\n",
       "    </tr>\n",
       "  </thead>\n",
       "  <tbody>\n",
       "    <tr>\n",
       "      <th>0</th>\n",
       "      <td>2022-08-01</td>\n",
       "      <td>NaN</td>\n",
       "    </tr>\n",
       "    <tr>\n",
       "      <th>1</th>\n",
       "      <td>2022-08-02</td>\n",
       "      <td>NaN</td>\n",
       "    </tr>\n",
       "    <tr>\n",
       "      <th>2</th>\n",
       "      <td>2022-08-03</td>\n",
       "      <td>NaN</td>\n",
       "    </tr>\n",
       "    <tr>\n",
       "      <th>3</th>\n",
       "      <td>2022-08-04</td>\n",
       "      <td>NaN</td>\n",
       "    </tr>\n",
       "    <tr>\n",
       "      <th>4</th>\n",
       "      <td>2022-08-05</td>\n",
       "      <td>NaN</td>\n",
       "    </tr>\n",
       "    <tr>\n",
       "      <th>5</th>\n",
       "      <td>2022-08-08</td>\n",
       "      <td>NaN</td>\n",
       "    </tr>\n",
       "    <tr>\n",
       "      <th>6</th>\n",
       "      <td>2022-08-09</td>\n",
       "      <td>NaN</td>\n",
       "    </tr>\n",
       "    <tr>\n",
       "      <th>7</th>\n",
       "      <td>2022-08-10</td>\n",
       "      <td>NaN</td>\n",
       "    </tr>\n",
       "    <tr>\n",
       "      <th>8</th>\n",
       "      <td>2022-08-11</td>\n",
       "      <td>NaN</td>\n",
       "    </tr>\n",
       "    <tr>\n",
       "      <th>9</th>\n",
       "      <td>2022-08-12</td>\n",
       "      <td>NaN</td>\n",
       "    </tr>\n",
       "    <tr>\n",
       "      <th>10</th>\n",
       "      <td>2022-08-15</td>\n",
       "      <td>NaN</td>\n",
       "    </tr>\n",
       "    <tr>\n",
       "      <th>11</th>\n",
       "      <td>2022-08-16</td>\n",
       "      <td>NaN</td>\n",
       "    </tr>\n",
       "    <tr>\n",
       "      <th>12</th>\n",
       "      <td>2022-08-17</td>\n",
       "      <td>NaN</td>\n",
       "    </tr>\n",
       "    <tr>\n",
       "      <th>13</th>\n",
       "      <td>2022-08-18</td>\n",
       "      <td>NaN</td>\n",
       "    </tr>\n",
       "    <tr>\n",
       "      <th>14</th>\n",
       "      <td>2022-08-19</td>\n",
       "      <td>NaN</td>\n",
       "    </tr>\n",
       "    <tr>\n",
       "      <th>15</th>\n",
       "      <td>2022-08-22</td>\n",
       "      <td>NaN</td>\n",
       "    </tr>\n",
       "    <tr>\n",
       "      <th>16</th>\n",
       "      <td>2022-08-23</td>\n",
       "      <td>NaN</td>\n",
       "    </tr>\n",
       "    <tr>\n",
       "      <th>17</th>\n",
       "      <td>2022-08-24</td>\n",
       "      <td>NaN</td>\n",
       "    </tr>\n",
       "    <tr>\n",
       "      <th>18</th>\n",
       "      <td>2022-08-25</td>\n",
       "      <td>NaN</td>\n",
       "    </tr>\n",
       "    <tr>\n",
       "      <th>19</th>\n",
       "      <td>2022-08-26</td>\n",
       "      <td>NaN</td>\n",
       "    </tr>\n",
       "    <tr>\n",
       "      <th>20</th>\n",
       "      <td>2022-08-29</td>\n",
       "      <td>NaN</td>\n",
       "    </tr>\n",
       "    <tr>\n",
       "      <th>21</th>\n",
       "      <td>2022-08-30</td>\n",
       "      <td>NaN</td>\n",
       "    </tr>\n",
       "    <tr>\n",
       "      <th>22</th>\n",
       "      <td>2022-08-31</td>\n",
       "      <td>NaN</td>\n",
       "    </tr>\n",
       "    <tr>\n",
       "      <th>23</th>\n",
       "      <td>2022-09-01</td>\n",
       "      <td>NaN</td>\n",
       "    </tr>\n",
       "    <tr>\n",
       "      <th>24</th>\n",
       "      <td>2022-09-02</td>\n",
       "      <td>NaN</td>\n",
       "    </tr>\n",
       "    <tr>\n",
       "      <th>25</th>\n",
       "      <td>2022-09-06</td>\n",
       "      <td>NaN</td>\n",
       "    </tr>\n",
       "    <tr>\n",
       "      <th>26</th>\n",
       "      <td>2022-09-07</td>\n",
       "      <td>NaN</td>\n",
       "    </tr>\n",
       "    <tr>\n",
       "      <th>27</th>\n",
       "      <td>2022-09-08</td>\n",
       "      <td>NaN</td>\n",
       "    </tr>\n",
       "    <tr>\n",
       "      <th>28</th>\n",
       "      <td>2022-09-09</td>\n",
       "      <td>NaN</td>\n",
       "    </tr>\n",
       "    <tr>\n",
       "      <th>29</th>\n",
       "      <td>2022-09-12</td>\n",
       "      <td>NaN</td>\n",
       "    </tr>\n",
       "    <tr>\n",
       "      <th>30</th>\n",
       "      <td>2022-09-13</td>\n",
       "      <td>NaN</td>\n",
       "    </tr>\n",
       "    <tr>\n",
       "      <th>31</th>\n",
       "      <td>2022-09-14</td>\n",
       "      <td>NaN</td>\n",
       "    </tr>\n",
       "    <tr>\n",
       "      <th>32</th>\n",
       "      <td>2022-09-15</td>\n",
       "      <td>NaN</td>\n",
       "    </tr>\n",
       "    <tr>\n",
       "      <th>33</th>\n",
       "      <td>2022-09-16</td>\n",
       "      <td>NaN</td>\n",
       "    </tr>\n",
       "    <tr>\n",
       "      <th>34</th>\n",
       "      <td>2022-09-19</td>\n",
       "      <td>NaN</td>\n",
       "    </tr>\n",
       "  </tbody>\n",
       "</table>\n",
       "</div>"
      ],
      "text/plain": [
       "          Date  Close\n",
       "0   2022-08-01    NaN\n",
       "1   2022-08-02    NaN\n",
       "2   2022-08-03    NaN\n",
       "3   2022-08-04    NaN\n",
       "4   2022-08-05    NaN\n",
       "5   2022-08-08    NaN\n",
       "6   2022-08-09    NaN\n",
       "7   2022-08-10    NaN\n",
       "8   2022-08-11    NaN\n",
       "9   2022-08-12    NaN\n",
       "10  2022-08-15    NaN\n",
       "11  2022-08-16    NaN\n",
       "12  2022-08-17    NaN\n",
       "13  2022-08-18    NaN\n",
       "14  2022-08-19    NaN\n",
       "15  2022-08-22    NaN\n",
       "16  2022-08-23    NaN\n",
       "17  2022-08-24    NaN\n",
       "18  2022-08-25    NaN\n",
       "19  2022-08-26    NaN\n",
       "20  2022-08-29    NaN\n",
       "21  2022-08-30    NaN\n",
       "22  2022-08-31    NaN\n",
       "23  2022-09-01    NaN\n",
       "24  2022-09-02    NaN\n",
       "25  2022-09-06    NaN\n",
       "26  2022-09-07    NaN\n",
       "27  2022-09-08    NaN\n",
       "28  2022-09-09    NaN\n",
       "29  2022-09-12    NaN\n",
       "30  2022-09-13    NaN\n",
       "31  2022-09-14    NaN\n",
       "32  2022-09-15    NaN\n",
       "33  2022-09-16    NaN\n",
       "34  2022-09-19    NaN"
      ]
     },
     "execution_count": 28,
     "metadata": {},
     "output_type": "execute_result"
    }
   ],
   "source": [
    "submission = submission[:35]\n",
    "submission"
   ]
  },
  {
   "cell_type": "code",
   "execution_count": 29,
   "id": "1851a19e",
   "metadata": {
    "execution": {
     "iopub.execute_input": "2023-12-18T05:07:14.223758Z",
     "iopub.status.busy": "2023-12-18T05:07:14.222554Z",
     "iopub.status.idle": "2023-12-18T05:07:14.232702Z",
     "shell.execute_reply": "2023-12-18T05:07:14.231029Z"
    },
    "papermill": {
     "duration": 0.027006,
     "end_time": "2023-12-18T05:07:14.234652",
     "exception": false,
     "start_time": "2023-12-18T05:07:14.207646",
     "status": "completed"
    },
    "tags": []
   },
   "outputs": [],
   "source": [
    "submission.to_csv('submission.csv',index=None)"
   ]
  }
 ],
 "metadata": {
  "kaggle": {
   "accelerator": "none",
   "dataSources": [
    {
     "databundleVersionId": 4306556,
     "sourceId": 38331,
     "sourceType": "competition"
    }
   ],
   "dockerImageVersionId": 30260,
   "isGpuEnabled": false,
   "isInternetEnabled": true,
   "language": "python",
   "sourceType": "notebook"
  },
  "kernelspec": {
   "display_name": "Python 3",
   "language": "python",
   "name": "python3"
  },
  "language_info": {
   "codemirror_mode": {
    "name": "ipython",
    "version": 3
   },
   "file_extension": ".py",
   "mimetype": "text/x-python",
   "name": "python",
   "nbconvert_exporter": "python",
   "pygments_lexer": "ipython3",
   "version": "3.7.12"
  },
  "papermill": {
   "default_parameters": {},
   "duration": 25.946001,
   "end_time": "2023-12-18T05:07:15.071890",
   "environment_variables": {},
   "exception": null,
   "input_path": "__notebook__.ipynb",
   "output_path": "__notebook__.ipynb",
   "parameters": {},
   "start_time": "2023-12-18T05:06:49.125889",
   "version": "2.3.4"
  }
 },
 "nbformat": 4,
 "nbformat_minor": 5
}
